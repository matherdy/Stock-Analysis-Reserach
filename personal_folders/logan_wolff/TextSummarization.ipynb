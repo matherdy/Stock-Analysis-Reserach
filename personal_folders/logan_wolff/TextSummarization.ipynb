{
 "cells": [
  {
   "cell_type": "code",
   "execution_count": 5,
   "id": "ca4ff46a",
   "metadata": {},
   "outputs": [
    {
     "name": "stdout",
     "output_type": "stream",
     "text": [
      "Requirement already satisfied: transformers in c:\\users\\lwolf\\appdata\\local\\programs\\python\\python310\\lib\\site-packages (4.26.0)\n",
      "Requirement already satisfied: huggingface-hub<1.0,>=0.11.0 in c:\\users\\lwolf\\appdata\\local\\programs\\python\\python310\\lib\\site-packages (from transformers) (0.12.0)\n",
      "Requirement already satisfied: tqdm>=4.27 in c:\\users\\lwolf\\appdata\\local\\programs\\python\\python310\\lib\\site-packages (from transformers) (4.64.1)\n",
      "Requirement already satisfied: packaging>=20.0 in c:\\users\\lwolf\\appdata\\local\\programs\\python\\python310\\lib\\site-packages (from transformers) (21.3)\n",
      "Requirement already satisfied: pyyaml>=5.1 in c:\\users\\lwolf\\appdata\\local\\programs\\python\\python310\\lib\\site-packages (from transformers) (6.0)\n",
      "Requirement already satisfied: numpy>=1.17 in c:\\users\\lwolf\\appdata\\local\\programs\\python\\python310\\lib\\site-packages (from transformers) (1.23.5)\n",
      "Requirement already satisfied: requests in c:\\users\\lwolf\\appdata\\local\\programs\\python\\python310\\lib\\site-packages (from transformers) (2.28.0)\n",
      "Requirement already satisfied: filelock in c:\\users\\lwolf\\appdata\\local\\programs\\python\\python310\\lib\\site-packages (from transformers) (3.9.0)\n",
      "Requirement already satisfied: regex!=2019.12.17 in c:\\users\\lwolf\\appdata\\local\\programs\\python\\python310\\lib\\site-packages (from transformers) (2022.9.13)\n",
      "Requirement already satisfied: tokenizers!=0.11.3,<0.14,>=0.11.1 in c:\\users\\lwolf\\appdata\\local\\programs\\python\\python310\\lib\\site-packages (from transformers) (0.13.2)\n",
      "Requirement already satisfied: typing-extensions>=3.7.4.3 in c:\\users\\lwolf\\appdata\\local\\programs\\python\\python310\\lib\\site-packages (from huggingface-hub<1.0,>=0.11.0->transformers) (4.3.0)\n",
      "Requirement already satisfied: pyparsing!=3.0.5,>=2.0.2 in c:\\users\\lwolf\\appdata\\local\\programs\\python\\python310\\lib\\site-packages (from packaging>=20.0->transformers) (3.0.9)\n",
      "Requirement already satisfied: colorama in c:\\users\\lwolf\\appdata\\local\\programs\\python\\python310\\lib\\site-packages (from tqdm>=4.27->transformers) (0.4.5)\n",
      "Requirement already satisfied: idna<4,>=2.5 in c:\\users\\lwolf\\appdata\\local\\programs\\python\\python310\\lib\\site-packages (from requests->transformers) (3.3)\n",
      "Requirement already satisfied: certifi>=2017.4.17 in c:\\users\\lwolf\\appdata\\local\\programs\\python\\python310\\lib\\site-packages (from requests->transformers) (2022.6.15)\n",
      "Requirement already satisfied: urllib3<1.27,>=1.21.1 in c:\\users\\lwolf\\appdata\\local\\programs\\python\\python310\\lib\\site-packages (from requests->transformers) (1.26.14)\n",
      "Requirement already satisfied: charset-normalizer~=2.0.0 in c:\\users\\lwolf\\appdata\\local\\programs\\python\\python310\\lib\\site-packages (from requests->transformers) (2.0.12)\n"
     ]
    },
    {
     "name": "stderr",
     "output_type": "stream",
     "text": [
      "\n",
      "[notice] A new release of pip available: 22.2.2 -> 23.0.1\n",
      "[notice] To update, run: python.exe -m pip install --upgrade pip\n"
     ]
    }
   ],
   "source": [
    "!pip install transformers"
   ]
  },
  {
   "cell_type": "code",
   "execution_count": 6,
   "id": "9edc69cc",
   "metadata": {},
   "outputs": [],
   "source": [
    "from transformers import pipeline"
   ]
  },
  {
   "cell_type": "code",
   "execution_count": 7,
   "id": "d6d9af0a",
   "metadata": {},
   "outputs": [
    {
     "name": "stderr",
     "output_type": "stream",
     "text": [
      "No model was supplied, defaulted to sshleifer/distilbart-cnn-12-6 and revision a4f8f3e (https://huggingface.co/sshleifer/distilbart-cnn-12-6).\n",
      "Using a pipeline without specifying a model name and revision in production is not recommended.\n"
     ]
    }
   ],
   "source": [
    "summarizer = pipeline('summarization')"
   ]
  },
  {
   "cell_type": "code",
   "execution_count": 8,
   "id": "0ba80620",
   "metadata": {},
   "outputs": [],
   "source": [
    "reply = \"\"\"More than 40 missiles have hit the northeastern city of Kharkiv since the beginning of the year, Ukrainian President Volodymyr Zelensky said in his nightly address on Saturday.\n",
    "\n",
    "\"Only since the beginning of this year – in less than two-and-a-half months – over 40 enemy missiles have already struck Kharkiv,\" Zelensky said, calling the resulting “ruins, debris, shell holes in the ground” a self-portrait of Russia.\n",
    "Oleh Synehubov, the head of the Kharkiv region military administration, said Saturday that engineers were working to restore power to thousands of customers in the region following Thursday's massive Russian attack.\n",
    "\n",
    "Zelensky also talked about the shelling of other areas in Ukraine. He said three people who were killed in Russian shelling in the city of Kherson \"simply went to a store to buy groceries.\"\n",
    "\n",
    "The attack happened on the Mykolaiv highway, injuring two others, according to a Telegram post earlier on Saturday from Oleksandr Prokudin, the head of the Kherson region's military administration.\n",
    "\n",
    "Zelensky said that \"in Zaporizhzhia, a Russian missile hit the city's life support facility.\"\n",
    "\n",
    "\"In the border areas, the occupier fired at villages to intimidate people, to drive people away,” he added.\n",
    "\n",
    "The Ukrainian president announced \"a new sanctioning step against individuals and legal entities\" associated with Russia.\n",
    "\n",
    "\"The relevant decree has been published,\" he said. \"These are more than 280 companies and 120 people who, through gambling business schemes, worked against Ukraine, withdrew funds from our state and financed various Russian schemes.\"\n",
    "The decree \"closes schemes worth tens of billions,\" Zelensky said. \"\"\""
   ]
  },
  {
   "cell_type": "code",
   "execution_count": 9,
   "id": "166868ad",
   "metadata": {},
   "outputs": [],
   "source": [
    "summary = summarizer(reply, max_length=130, min_length=30, do_sample=False)"
   ]
  },
  {
   "cell_type": "code",
   "execution_count": 12,
   "id": "62e48e9e",
   "metadata": {},
   "outputs": [
    {
     "data": {
      "text/plain": [
       "' More than 40 missiles have hit the northeastern city of Kharkiv since the beginning of the year, Ukrainian President Volodymyr Zelensky said in his nightly address on Saturday . He called the resulting ‘ruins, debris, shell holes in the ground” a self-portrait of Russia . Three people who were killed in Russian shelling in Kherson \"simply went to a store to buy groceries,\" he said . The president announced a new sanctioning step against individuals and legal entities associated with Russia .'"
      ]
     },
     "execution_count": 12,
     "metadata": {},
     "output_type": "execute_result"
    }
   ],
   "source": [
    "summary[0]['summary_text']"
   ]
  }
 ],
 "metadata": {
  "kernelspec": {
   "display_name": "Python 3 (ipykernel)",
   "language": "python",
   "name": "python3"
  },
  "language_info": {
   "codemirror_mode": {
    "name": "ipython",
    "version": 3
   },
   "file_extension": ".py",
   "mimetype": "text/x-python",
   "name": "python",
   "nbconvert_exporter": "python",
   "pygments_lexer": "ipython3",
   "version": "3.10.5"
  }
 },
 "nbformat": 4,
 "nbformat_minor": 5
}
