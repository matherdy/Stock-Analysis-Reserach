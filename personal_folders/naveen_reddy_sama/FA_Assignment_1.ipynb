{
  "nbformat": 4,
  "nbformat_minor": 0,
  "metadata": {
    "colab": {
      "provenance": []
    },
    "kernelspec": {
      "name": "python3",
      "display_name": "Python 3"
    },
    "language_info": {
      "name": "python"
    }
  },
  "cells": [
    {
      "cell_type": "markdown",
      "source": [
        "## **Financial Analysis:** Assignment 1\n",
        "\n",
        "Picking Up FInancial Indicators and Tickers that are related to Russia-Ukriane War\n",
        "\n",
        "\n",
        "---\n",
        "\n",
        "### **FInancial Indicators Used:**\n",
        "\n",
        "\n",
        "\n",
        "\n",
        "> On Balance VOlume (OBV)\n",
        "\n",
        "\n",
        "\n",
        "> Relative strength index (RSI)\n",
        "\n",
        "---\n",
        "\n",
        "### **Stocks or Tickers used in Analysis:**\n",
        "\n",
        "\n",
        "\n",
        "\n",
        "**1. FSLR (First Solar, Inc.)**\n",
        "\n",
        "First Solar is a leading manufacturer of photovoltaic (PV) solar modules and provider of solar solutions. The company's products are used in residential, commercial, and utility-scale solar projects.\n",
        "Why monitor for the Russo-Ukraine project: As the world shifts toward renewable energy, First Solar is well-positioned to benefit from increased demand for solar power, especially in regions where fossil fuels are becoming more expensive or difficult to access. This could include Ukraine, which has limited domestic fossil fuel reserves.\n",
        "\n",
        "**2. ENPH (Enphase Energy, Inc.)**\n",
        "\n",
        "Enphase Energy designs and manufactures software-driven home energy solutions. The company's products include microinverters, energy storage systems, and monitoring software that help homeowners optimize their solar energy systems.\n",
        "Why monitor for the Russo-Ukraine project: As Ukraine seeks to reduce its dependence on foreign energy sources, there may be increased demand for home solar energy systems. Enphase Energy's products could be well-suited for this market, and the company's focus on software and monitoring could be particularly attractive to Ukrainian consumers.\n",
        "\n",
        "**3. XOM (Exxon Mobil Corporation)**\n",
        "\n",
        "Exxon Mobil is a multinational oil and gas corporation that explores for, produces, and sells crude oil and natural gas. The company also manufactures and sells petrochemicals and produces electricity through its subsidiaries.\n",
        "Why monitor for the Russo-Ukraine project: As tensions between Russia and Ukraine continue to escalate, there is a risk that the Russo-Ukraine conflict could disrupt the global oil and gas market. Exxon Mobil is one of the largest players in this market, and any disruption could have an impact on the company's operations and profitability.\n",
        "\n",
        "**4. TAN (Invesco Solar ETF)**\n",
        "\n",
        "The Invesco Solar ETF is an exchange-traded fund that tracks the performance of companies in the solar energy industry. The fund's holdings include companies involved in the manufacture, development, and distribution of solar power products and services.\n",
        "Why monitor for the Russo-Ukraine project: The Invesco Solar ETF is a good way to gain exposure to the growing solar energy market without taking on the risk of individual stock picks. If Ukraine does increase its demand for solar power, this ETF could be a good way to benefit from that trend.\n",
        "\n",
        "**5. VDE (Vanguard Energy ETF)**\n",
        "\n",
        "The Vanguard Energy ETF tracks the performance of companies in the energy sector, including those involved in the exploration, production, and distribution of oil, gas, and coal. The fund's holdings include both U.S. and international companies.\n",
        "Why monitor for the Russo-Ukraine project: The Vanguard Energy ETF could be a good way to monitor the overall health of the global energy market, which could be impacted by the Russo-Ukraine conflict. The ETF's diversified holdings could help reduce the risk of exposure to any one company or region.\n",
        "\n",
        "**6. FAN (First Trust Global Wind Energy ETF)** : \n",
        "\n",
        "The First Trust Global Wind Energy ETF is an exchange-traded fund that invests in companies involved in the wind energy industry. This ETF offers exposure to both large and small companies across the globe that are involved in the production, installation, and maintenance of wind turbines. With a focus on wind energy, FAN is a great ticker to monitor for the Russo-Ukraine project, as wind energy is a key component of the EU's green energy goals.\n",
        "\n",
        " **7. ORsted A/S (ORSTED.CO):** \n",
        " \n",
        "Orsted is a Danish energy company that specializes in offshore wind power. The company has operations in Europe, Asia, and the US, and is a leader in the global offshore wind market. ORSTED.CO is a good ticker to monitor for the Russo-Ukraine project because it operates in Europe, which is a key region for energy supply and demand, and has a focus on renewable energy solutions.\n",
        "\n",
        "\n",
        "\n",
        "\n"
      ],
      "metadata": {
        "id": "H96mf49FV8mH"
      }
    },
    {
      "cell_type": "code",
      "source": [
        "pip install yfinance"
      ],
      "metadata": {
        "colab": {
          "base_uri": "https://localhost:8080/"
        },
        "id": "qPXXzwjMZWKe",
        "outputId": "a717662e-c940-42aa-f116-7503c3f5c71b"
      },
      "execution_count": 54,
      "outputs": [
        {
          "output_type": "stream",
          "name": "stdout",
          "text": [
            "Looking in indexes: https://pypi.org/simple, https://us-python.pkg.dev/colab-wheels/public/simple/\n",
            "Requirement already satisfied: yfinance in /usr/local/lib/python3.9/dist-packages (0.2.12)\n",
            "Requirement already satisfied: numpy>=1.16.5 in /usr/local/lib/python3.9/dist-packages (from yfinance) (1.22.4)\n",
            "Requirement already satisfied: lxml>=4.9.1 in /usr/local/lib/python3.9/dist-packages (from yfinance) (4.9.2)\n",
            "Requirement already satisfied: appdirs>=1.4.4 in /usr/local/lib/python3.9/dist-packages (from yfinance) (1.4.4)\n",
            "Requirement already satisfied: requests>=2.26 in /usr/local/lib/python3.9/dist-packages (from yfinance) (2.28.2)\n",
            "Requirement already satisfied: cryptography>=3.3.2 in /usr/local/lib/python3.9/dist-packages (from yfinance) (39.0.2)\n",
            "Requirement already satisfied: pytz>=2022.5 in /usr/local/lib/python3.9/dist-packages (from yfinance) (2022.7.1)\n",
            "Requirement already satisfied: html5lib>=1.1 in /usr/local/lib/python3.9/dist-packages (from yfinance) (1.1)\n",
            "Requirement already satisfied: frozendict>=2.3.4 in /usr/local/lib/python3.9/dist-packages (from yfinance) (2.3.5)\n",
            "Requirement already satisfied: multitasking>=0.0.7 in /usr/local/lib/python3.9/dist-packages (from yfinance) (0.0.11)\n",
            "Requirement already satisfied: beautifulsoup4>=4.11.1 in /usr/local/lib/python3.9/dist-packages (from yfinance) (4.11.2)\n",
            "Requirement already satisfied: pandas>=1.3.0 in /usr/local/lib/python3.9/dist-packages (from yfinance) (1.3.5)\n",
            "Requirement already satisfied: soupsieve>1.2 in /usr/local/lib/python3.9/dist-packages (from beautifulsoup4>=4.11.1->yfinance) (2.4)\n",
            "Requirement already satisfied: cffi>=1.12 in /usr/local/lib/python3.9/dist-packages (from cryptography>=3.3.2->yfinance) (1.15.1)\n",
            "Requirement already satisfied: six>=1.9 in /usr/local/lib/python3.9/dist-packages (from html5lib>=1.1->yfinance) (1.15.0)\n",
            "Requirement already satisfied: webencodings in /usr/local/lib/python3.9/dist-packages (from html5lib>=1.1->yfinance) (0.5.1)\n",
            "Requirement already satisfied: python-dateutil>=2.7.3 in /usr/local/lib/python3.9/dist-packages (from pandas>=1.3.0->yfinance) (2.8.2)\n",
            "Requirement already satisfied: idna<4,>=2.5 in /usr/local/lib/python3.9/dist-packages (from requests>=2.26->yfinance) (2.10)\n",
            "Requirement already satisfied: certifi>=2017.4.17 in /usr/local/lib/python3.9/dist-packages (from requests>=2.26->yfinance) (2022.12.7)\n",
            "Requirement already satisfied: urllib3<1.27,>=1.21.1 in /usr/local/lib/python3.9/dist-packages (from requests>=2.26->yfinance) (1.26.14)\n",
            "Requirement already satisfied: charset-normalizer<4,>=2 in /usr/local/lib/python3.9/dist-packages (from requests>=2.26->yfinance) (3.1.0)\n",
            "Requirement already satisfied: pycparser in /usr/local/lib/python3.9/dist-packages (from cffi>=1.12->cryptography>=3.3.2->yfinance) (2.21)\n"
          ]
        }
      ]
    },
    {
      "cell_type": "code",
      "source": [
        "# importing necessary libraries\n",
        "\n",
        "import yfinance as yf\n",
        "import plotly.graph_objs as go\n",
        "import plotly.express as px\n",
        "from plotly.subplots import make_subplots\n",
        "import pandas as pd\n",
        "import numpy as np"
      ],
      "metadata": {
        "id": "yEjtsjvZYkwD"
      },
      "execution_count": 55,
      "outputs": []
    },
    {
      "cell_type": "code",
      "source": [
        "# defining a function to import the tickers data from yahoo finance\n",
        "\n",
        "def get_data(ticker_name:str, start_date:str, end_date:str, interval: str) -> pd.DataFrame:\n",
        "\n",
        "  \"\"\"This function will returns the data for a given ticker, start date, end date and interval\"\"\"\n",
        "\n",
        "  data = yf.download(tickers=ticker_name, start = start_date , end = end_date, interval=interval,prepost= True)\n",
        "\n",
        "  return data"
      ],
      "metadata": {
        "id": "ZmFaIwqEYXt4"
      },
      "execution_count": 56,
      "outputs": []
    },
    {
      "cell_type": "markdown",
      "source": [
        "### **On Balance Volume (OBV)**\n",
        "On-Balance Volume (OBV) is a technical analysis indicator that uses volume flow to predict changes in stock price. OBV takes into account the cumulative volume of an asset over a period of time and assigns positive or negative values to the volume depending on whether the price of the asset closes higher or lower than the previous day's closing price. OBV can be used to confirm trends and to identify potential price reversals. When the price and OBV move in opposite directions, it can signal a divergence and potentially indicate a reversal. OBV is a popular tool used by traders to gain insight into the buying and selling pressure behind a security's price movements."
      ],
      "metadata": {
        "id": "nu6TcB0jiH-g"
      }
    },
    {
      "cell_type": "code",
      "source": [
        "# defining a function to calculate and plot OBV \n",
        "\n",
        "def on_bal_vol(ticker_name:str, start_date:str, end_date:str, interval: str):\n",
        "\n",
        "  \"\"\"Calculates the on balance volume(OBV) for a given data and plots the data\"\"\"\n",
        "\n",
        "  # using the get data function to download data\n",
        "\n",
        "  data = get_data(ticker_name, start_date, end_date, interval)\n",
        "\n",
        "  # re set index to get date as column\n",
        "  df = data.reset_index()\n",
        "\n",
        "  # Calculate the OBV\n",
        "\n",
        "  obv = [0]\n",
        "  for i in range(1, len(df)):\n",
        "      if df['Close'][i] > df['Close'][i-1]:\n",
        "          obv.append(obv[-1] + df['Volume'][i])\n",
        "      elif df['Close'][i] < df['Close'][i-1]:\n",
        "          obv.append(obv[-1] - df['Volume'][i])\n",
        "      else:\n",
        "          obv.append(obv[-1])\n",
        "\n",
        "  # Adding the OBV as a new column to the DataFrame\n",
        "  df['OBV'] = obv\n",
        "\n",
        "\n",
        "  # Create a Plotly figure with the OBV line chart\n",
        "\n",
        "  fig = go.Figure()\n",
        "\n",
        "  # adding candle stick plot\n",
        "  fig.add_trace(go.Candlestick(x=df['Date'],\n",
        "                              open=df['Open'],\n",
        "                              high=df['High'],\n",
        "                              low=df['Low'],\n",
        "                              close=df['Close'],\n",
        "                              name=f'{(ticker_name)} '))\n",
        "  \n",
        "  # scaling OBV to second y-axis\n",
        "  fig.add_trace(go.Scatter(x=df['Date'],\n",
        "                          y=df['OBV'],\n",
        "                          name='OBV',\n",
        "                          yaxis=\"y2\",\n",
        "                          line=dict(color='blue')))\n",
        "  \n",
        "  # Add the chart layout\n",
        "  fig.update_layout(\n",
        "    title=f\"{ticker_name} stock and OBV indicator ({start_date} to {end_date})\",\n",
        "    xaxis=dict(title=\"Date\"),\n",
        "    yaxis=dict(title=\"Stock\"),\n",
        "    yaxis2=dict(title=\"OBV\", overlaying=\"y\", side=\"right\")\n",
        "  )\n",
        "\n",
        "  # creating a trasparent layer to defferentiate before and after war start \n",
        "  split_date = '2022-02-24'\n",
        "  fig.add_shape(type='rect',\n",
        "              xref='x',\n",
        "              yref='paper',\n",
        "              x0=data.index[0],\n",
        "              y0=0,\n",
        "              x1=split_date,\n",
        "              y1=1,\n",
        "              fillcolor='green',\n",
        "              opacity=0.1,\n",
        "              layer='below'\n",
        "             )\n",
        "\n",
        "  fig.add_shape(type='rect',\n",
        "              xref='x',\n",
        "              yref='paper',\n",
        "              x0=split_date,\n",
        "              y0=0,\n",
        "              x1=data.index[-1],\n",
        "              y1=1,\n",
        "              fillcolor='red',\n",
        "              opacity=0.1,\n",
        "              layer='below'\n",
        "             )\n",
        "  \n",
        "  display(fig)\n",
        "\n"
      ],
      "metadata": {
        "id": "BHZH_RCqgqws"
      },
      "execution_count": 57,
      "outputs": []
    },
    {
      "cell_type": "code",
      "source": [
        "# applying the function on all tickers\n",
        "on_bal_vol('FSLR',\"2022-01-01\", \"2023-01-31\", \"1d\")\n",
        "on_bal_vol('ENPH',\"2022-01-01\", \"2023-01-31\", \"1d\")\n",
        "on_bal_vol('XOM',\"2022-01-01\", \"2023-01-31\", \"1d\")\n",
        "on_bal_vol('TAN',\"2022-01-01\", \"2023-01-31\", \"1d\")\n",
        "on_bal_vol('VDE',\"2022-01-01\", \"2023-01-31\", \"1d\")\n",
        "on_bal_vol('FAN',\"2022-01-01\", \"2023-01-31\", \"1d\")\n",
        "on_bal_vol('ORSTED.CO',\"2022-01-01\", \"2023-01-31\", \"1d\")"
      ],
      "metadata": {
        "id": "ZqzJAeXUlj9w"
      },
      "execution_count": null,
      "outputs": []
    },
    {
      "cell_type": "markdown",
      "source": [
        "###**Relative Strength Index (RSI)**\n",
        "\n",
        "The is a technical analysis indicator used to measure the strength of a security's price action by comparing the magnitude of its recent gains to the magnitude of its recent losses. The RSI is typically displayed as an oscillator that fluctuates between 0 and 100, with readings above 70 considered overbought and readings below 30 considered oversold. The RSI is commonly used by traders to identify potential price reversals and to generate buy and sell signals based on divergences between the RSI and the price action of a security."
      ],
      "metadata": {
        "id": "vIRRvHYyq2sA"
      }
    },
    {
      "cell_type": "code",
      "source": [
        "# defining a function to calculate and plot RSI\n",
        "\n",
        "def rel_strength_index(ticker_name:str, start_date:str, end_date:str, interval: str):\n",
        "\n",
        "  \"\"\"Calculates the Relative Strength Index (RSI) for a given data and plots the data\"\"\"\n",
        "\n",
        "  # using the get data function to download data\n",
        "\n",
        "  data = get_data(ticker_name, start_date, end_date, interval)\n",
        "\n",
        "  # calculating RSI\n",
        "\n",
        "  periods = 14\n",
        "\n",
        "  close_delta = data['Close'].diff()\n",
        "  gain = close_delta.where(close_delta > 0, 0)\n",
        "  loss = -close_delta.where(close_delta < 0, 0)\n",
        "  avg_gain = gain.rolling(window=periods).mean()\n",
        "  avg_loss = loss.rolling(window=periods).mean()\n",
        "  rs = avg_gain / avg_loss\n",
        "  rsi = 100.0 - (100.0 / (1.0 + rs))\n",
        "\n",
        "  data['RSI'] = rsi\n",
        "\n",
        "  # Creating a Plotly figure with the RSI line chart\n",
        "\n",
        "  fig = go.Figure()\n",
        "\n",
        "  # adding candle stick plot\n",
        "  fig.add_trace(go.Candlestick(x=data.index,\n",
        "                              open=data['Open'],\n",
        "                              high=data['High'],\n",
        "                              low=data['Low'],\n",
        "                              close=data['Close'],\n",
        "                              name=f'{(ticker_name)} '))\n",
        "  \n",
        "\n",
        "  # scaling OBV to second y-axis\n",
        "\n",
        "  fig.add_trace(go.Scatter(x=data.index,\n",
        "                           y=data['RSI'],\n",
        "                           name='RSI',\n",
        "                           yaxis=\"y2\",\n",
        "                           line=dict(color='blue')))\n",
        "  \n",
        "  # Adding the chart layout\n",
        "  fig.update_layout(\n",
        "    title=f\"{ticker_name} stock and RSI indicator ({start_date} to {end_date})\",\n",
        "    xaxis=dict(title=\"Date\"),\n",
        "    yaxis=dict(title=\"Stock price\"),\n",
        "    yaxis2=dict(title=\"OBV\", overlaying=\"y\", side=\"right\")\n",
        "  )\n",
        "\n",
        "  # creating a trasparent layer to defferentiate before and after war start \n",
        "  split_date = '2022-02-24'\n",
        "  fig.add_shape(type='rect',\n",
        "              xref='x',\n",
        "              yref='paper',\n",
        "              x0=data.index[0],\n",
        "              y0=0,\n",
        "              x1=split_date,\n",
        "              y1=1,\n",
        "              fillcolor='green',\n",
        "              opacity=0.1,\n",
        "              layer='below'\n",
        "             )\n",
        "\n",
        "  fig.add_shape(type='rect',\n",
        "              xref='x',\n",
        "              yref='paper',\n",
        "              x0=split_date,\n",
        "              y0=0,\n",
        "              x1=data.index[-1],\n",
        "              y1=1,\n",
        "              fillcolor='red',\n",
        "              opacity=0.1,\n",
        "              layer='below'\n",
        "             )\n",
        "\n",
        "  display(fig)"
      ],
      "metadata": {
        "id": "hftAw_Cirem6"
      },
      "execution_count": 59,
      "outputs": []
    },
    {
      "cell_type": "code",
      "source": [
        "# applying the function on all tickers\n",
        "rel_strength_index('FSLR',\"2022-01-01\", \"2023-01-31\", \"1d\")\n",
        "rel_strength_index('ENPH',\"2022-01-01\", \"2023-01-31\", \"1d\")\n",
        "rel_strength_index('XOM',\"2022-01-01\", \"2023-01-31\", \"1d\")\n",
        "rel_strength_index('TAN',\"2022-01-01\", \"2023-01-31\", \"1d\")\n",
        "rel_strength_index('VDE',\"2022-01-01\", \"2023-01-31\", \"1d\")\n",
        "rel_strength_index('FAN',\"2022-01-01\", \"2023-01-31\", \"1d\")\n",
        "rel_strength_index('ORSTED.CO',\"2022-01-01\", \"2023-01-31\", \"1d\")"
      ],
      "metadata": {
        "id": "wkgRpOO0upmH"
      },
      "execution_count": null,
      "outputs": []
    }
  ]
}