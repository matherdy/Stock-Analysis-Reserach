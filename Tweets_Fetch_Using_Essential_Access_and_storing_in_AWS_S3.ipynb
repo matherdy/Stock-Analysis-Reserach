{
  "nbformat": 4,
  "nbformat_minor": 0,
  "metadata": {
    "colab": {
      "provenance": [],
      "authorship_tag": "ABX9TyMrxmixNzMGDE2wNGrORrew",
      "include_colab_link": true
    },
    "kernelspec": {
      "name": "python3",
      "display_name": "Python 3"
    },
    "language_info": {
      "name": "python"
    }
  },
  "cells": [
    {
      "cell_type": "markdown",
      "metadata": {
        "id": "view-in-github",
        "colab_type": "text"
      },
      "source": [
        "<a href=\"https://colab.research.google.com/github/matherdy/Ukraine-War-Reserach/blob/krutik-2-11-collected-tweets/Tweets_Fetch_Using_Essential_Access_and_storing_in_AWS_S3.ipynb\" target=\"_parent\"><img src=\"https://colab.research.google.com/assets/colab-badge.svg\" alt=\"Open In Colab\"/></a>"
      ]
    },
    {
      "cell_type": "markdown",
      "source": [
        "Python code to fetch tweets from Twitter using essential access and storing it to AWS S3. The script also includes the code to fetch data from S3 and using it in a python dataframe.\n"
      ],
      "metadata": {
        "id": "4v5jfWynXEzD"
      }
    },
    {
      "cell_type": "code",
      "source": [
        "!pip install --upgrade tweepy "
      ],
      "metadata": {
        "colab": {
          "base_uri": "https://localhost:8080/"
        },
        "id": "HSy0pMOb8UPh",
        "outputId": "ddb6c8bf-70e1-4a51-a08a-ab4d884d6eb4"
      },
      "execution_count": 1,
      "outputs": [
        {
          "output_type": "stream",
          "name": "stdout",
          "text": [
            "Looking in indexes: https://pypi.org/simple, https://us-python.pkg.dev/colab-wheels/public/simple/\n",
            "Requirement already satisfied: tweepy in /usr/local/lib/python3.8/dist-packages (3.10.0)\n",
            "Collecting tweepy\n",
            "  Downloading tweepy-4.12.1-py3-none-any.whl (101 kB)\n",
            "\u001b[2K     \u001b[90m━━━━━━━━━━━━━━━━━━━━━━━━━━━━━━━━━━━━━━━\u001b[0m \u001b[32m101.6/101.6 KB\u001b[0m \u001b[31m2.2 MB/s\u001b[0m eta \u001b[36m0:00:00\u001b[0m\n",
            "\u001b[?25hCollecting requests<3,>=2.27.0\n",
            "  Downloading requests-2.28.2-py3-none-any.whl (62 kB)\n",
            "\u001b[2K     \u001b[90m━━━━━━━━━━━━━━━━━━━━━━━━━━━━━━━━━━━━━━━━\u001b[0m \u001b[32m62.8/62.8 KB\u001b[0m \u001b[31m3.5 MB/s\u001b[0m eta \u001b[36m0:00:00\u001b[0m\n",
            "\u001b[?25hRequirement already satisfied: requests-oauthlib<2,>=1.2.0 in /usr/local/lib/python3.8/dist-packages (from tweepy) (1.3.1)\n",
            "Requirement already satisfied: oauthlib<4,>=3.2.0 in /usr/local/lib/python3.8/dist-packages (from tweepy) (3.2.2)\n",
            "Requirement already satisfied: urllib3<1.27,>=1.21.1 in /usr/local/lib/python3.8/dist-packages (from requests<3,>=2.27.0->tweepy) (1.26.14)\n",
            "Requirement already satisfied: certifi>=2017.4.17 in /usr/local/lib/python3.8/dist-packages (from requests<3,>=2.27.0->tweepy) (2022.12.7)\n",
            "Requirement already satisfied: charset-normalizer<4,>=2 in /usr/local/lib/python3.8/dist-packages (from requests<3,>=2.27.0->tweepy) (3.0.1)\n",
            "Requirement already satisfied: idna<4,>=2.5 in /usr/local/lib/python3.8/dist-packages (from requests<3,>=2.27.0->tweepy) (2.10)\n",
            "Installing collected packages: requests, tweepy\n",
            "  Attempting uninstall: requests\n",
            "    Found existing installation: requests 2.25.1\n",
            "    Uninstalling requests-2.25.1:\n",
            "      Successfully uninstalled requests-2.25.1\n",
            "  Attempting uninstall: tweepy\n",
            "    Found existing installation: tweepy 3.10.0\n",
            "    Uninstalling tweepy-3.10.0:\n",
            "      Successfully uninstalled tweepy-3.10.0\n",
            "Successfully installed requests-2.28.2 tweepy-4.12.1\n"
          ]
        }
      ]
    },
    {
      "cell_type": "code",
      "source": [
        "!pip install boto3"
      ],
      "metadata": {
        "colab": {
          "base_uri": "https://localhost:8080/"
        },
        "id": "j9EDOLuXdg9Z",
        "outputId": "23da62be-71db-4605-cb8d-749d0a7ae36d"
      },
      "execution_count": 2,
      "outputs": [
        {
          "output_type": "stream",
          "name": "stdout",
          "text": [
            "Looking in indexes: https://pypi.org/simple, https://us-python.pkg.dev/colab-wheels/public/simple/\n",
            "Collecting boto3\n",
            "  Downloading boto3-1.26.84-py3-none-any.whl (134 kB)\n",
            "\u001b[2K     \u001b[90m━━━━━━━━━━━━━━━━━━━━━━━━━━━━━━━━━━━━━━━\u001b[0m \u001b[32m134.7/134.7 KB\u001b[0m \u001b[31m1.1 MB/s\u001b[0m eta \u001b[36m0:00:00\u001b[0m\n",
            "\u001b[?25hCollecting s3transfer<0.7.0,>=0.6.0\n",
            "  Downloading s3transfer-0.6.0-py3-none-any.whl (79 kB)\n",
            "\u001b[2K     \u001b[90m━━━━━━━━━━━━━━━━━━━━━━━━━━━━━━━━━━━━━━━━\u001b[0m \u001b[32m79.6/79.6 KB\u001b[0m \u001b[31m3.3 MB/s\u001b[0m eta \u001b[36m0:00:00\u001b[0m\n",
            "\u001b[?25hCollecting jmespath<2.0.0,>=0.7.1\n",
            "  Downloading jmespath-1.0.1-py3-none-any.whl (20 kB)\n",
            "Collecting botocore<1.30.0,>=1.29.84\n",
            "  Downloading botocore-1.29.84-py3-none-any.whl (10.5 MB)\n",
            "\u001b[2K     \u001b[90m━━━━━━━━━━━━━━━━━━━━━━━━━━━━━━━━━━━━━━━━\u001b[0m \u001b[32m10.5/10.5 MB\u001b[0m \u001b[31m37.4 MB/s\u001b[0m eta \u001b[36m0:00:00\u001b[0m\n",
            "\u001b[?25hRequirement already satisfied: urllib3<1.27,>=1.25.4 in /usr/local/lib/python3.8/dist-packages (from botocore<1.30.0,>=1.29.84->boto3) (1.26.14)\n",
            "Requirement already satisfied: python-dateutil<3.0.0,>=2.1 in /usr/local/lib/python3.8/dist-packages (from botocore<1.30.0,>=1.29.84->boto3) (2.8.2)\n",
            "Requirement already satisfied: six>=1.5 in /usr/local/lib/python3.8/dist-packages (from python-dateutil<3.0.0,>=2.1->botocore<1.30.0,>=1.29.84->boto3) (1.15.0)\n",
            "Installing collected packages: jmespath, botocore, s3transfer, boto3\n",
            "Successfully installed boto3-1.26.84 botocore-1.29.84 jmespath-1.0.1 s3transfer-0.6.0\n"
          ]
        }
      ]
    },
    {
      "cell_type": "code",
      "execution_count": 51,
      "metadata": {
        "id": "rWR7KYG5_-Ov",
        "colab": {
          "base_uri": "https://localhost:8080/"
        },
        "outputId": "95748e5f-92e9-45c2-9e74-783c81996299"
      },
      "outputs": [
        {
          "output_type": "stream",
          "name": "stdout",
          "text": [
            "**************** CSV file uploaded to AWS S3 *******************\n",
            "**************** Reading CSV file from AWS S3 ******************\n",
            "************** Successful S3 get_object response. Status - 200 ***********************\n",
            "           Keyword             tweet_id                created_at  \\\n",
            "0   russia+ukraine  1631797504894197762  2023-03-03T23:23:37.000Z   \n",
            "1   russia+ukraine  1631797452935159814  2023-03-03T23:23:24.000Z   \n",
            "2   russia+ukraine  1631797359536488448  2023-03-03T23:23:02.000Z   \n",
            "3   russia+ukraine  1631797325566820357  2023-03-03T23:22:54.000Z   \n",
            "4   russia+ukraine  1631797310983397376  2023-03-03T23:22:50.000Z   \n",
            "..             ...                  ...                       ...   \n",
            "95  russia+ukraine  1631794386676731907  2023-03-03T23:11:13.000Z   \n",
            "96  russia+ukraine  1631794333387980800  2023-03-03T23:11:01.000Z   \n",
            "97  russia+ukraine  1631794317063774208  2023-03-03T23:10:57.000Z   \n",
            "98  russia+ukraine  1631794312634863616  2023-03-03T23:10:56.000Z   \n",
            "99  russia+ukraine  1631794296834670600  2023-03-03T23:10:52.000Z   \n",
            "\n",
            "                                                 text  \n",
            "0   RT @EuromaidanPress: Blinken, Lavrov meet brie...  \n",
            "1   RT @jacopo_iacoboni: “La guerra che è stata la...  \n",
            "2   RT @SamuelBickett: Belarus is a sanctioned int...  \n",
            "3   RT @GlasnostGone: Putin's baby barbarism. In o...  \n",
            "4   RT @ABCWorldNews: U.S. Attorney General Garlan...  \n",
            "..                                                ...  \n",
            "95  RT @AJEnglish: Russia-Ukraine war: March 3 upd...  \n",
            "96  حسب التقارير المنتشرة من صحف كبرى والمواقع الر...  \n",
            "97  RT @iEndure_4evr: #RussiaIsCollapsing Russian ...  \n",
            "98  #Bakhmut was held purely for political reasons...  \n",
            "99  Why purported cross-border attack ups ante in ...  \n",
            "\n",
            "[100 rows x 4 columns]\n"
          ]
        }
      ],
      "source": [
        "import tweepy\n",
        "import csv\n",
        "import boto3\n",
        "import pandas as pd\n",
        "from io import StringIO\n",
        "\n",
        "\n",
        "TWEET_FIELDS = [\n",
        "    'id',\n",
        "    'text',\n",
        "    'created_at'\n",
        "]\n",
        "\n",
        "# AWS credentials\n",
        "access_key = \"**********\"\n",
        "secret_key = \"**********\"\n",
        "\n",
        "\n",
        "# Twitter API credentials\n",
        "BEARER_TOKEN: str = \"**********\"\n",
        "\n",
        "query = \"russia+ukraine\"\n",
        "\n",
        "CLIENT = tweepy.Client(bearer_token=BEARER_TOKEN)\n",
        "\n",
        "response = CLIENT.search_recent_tweets(query=query,tweet_fields=TWEET_FIELDS,max_results=100)\n",
        "\n",
        "tweets = []\n",
        "\n",
        "tweets += [tweet.data for tweet in response[0]]\n",
        "\n",
        "filename = f'{query}_tweets.csv' \n",
        "\n",
        "# Create a CSV file to store the tweets\n",
        "with open(filename, 'w') as file:\n",
        "    writer = csv.writer(file, lineterminator = \"\\n\")\n",
        "    writer.writerow(['Keyword', 'tweet_id', 'created_at','text'])\n",
        "\n",
        "    # Iterate over the tweets and write them to the CSV file\n",
        "    for tweet in tweets:\n",
        "        writer.writerow([query,tweet['id'],tweet['created_at'],tweet['text']])\n",
        "\n",
        "print(\"***************** Tweets added in CSV file **************************\")\n",
        "\n",
        "\n",
        "\n",
        "filename = 'russia+ukraine_tweets.csv'\n",
        "\n",
        "# Authenticate to AWS\n",
        "s3 = boto3.client('s3', aws_access_key_id=access_key, aws_secret_access_key=secret_key)\n",
        "\n",
        "bucket_name = 'russiaukrainewarproject'\n",
        "key = filename #path to file\n",
        "\n",
        "################### Upload the CSV file to S3##########################\n",
        "s3.upload_file(Filename=filename, Bucket=bucket_name, Key=key)\n",
        "print(\"**************** CSV file uploaded to AWS S3 *******************\")\n",
        "\n",
        "\n",
        "print(\"**************** Reading CSV file from AWS S3 ******************\")\n",
        "#read csv file from S3\n",
        "response = s3.get_object(Bucket=bucket_name, Key=key)\n",
        "\n",
        "status = response.get(\"ResponseMetadata\", {}).get(\"HTTPStatusCode\")\n",
        "\n",
        "if status == 200:\n",
        "    print(f\"************** Successful S3 get_object response. Status - {status } ***********************\")\n",
        "    body = response['Body']\n",
        "    csv_string = body.read().decode()\n",
        "    df = pd.read_csv(StringIO(csv_string))\n",
        "    print(df)\n",
        "else:\n",
        "    print(f\"************ Unsuccessful S3 get_object response. Status - {status} ***********************\")\n"
      ]
    },
    {
      "cell_type": "code",
      "source": [],
      "metadata": {
        "id": "WIeXizBaOhYo"
      },
      "execution_count": null,
      "outputs": []
    }
  ]
}